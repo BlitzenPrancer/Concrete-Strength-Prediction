{
  "nbformat": 4,
  "nbformat_minor": 0,
  "metadata": {
    "colab": {
      "name": "Concrete-Strength-Prediction.ipynb",
      "provenance": []
    },
    "kernelspec": {
      "name": "python3",
      "display_name": "Python 3"
    },
    "language_info": {
      "name": "python"
    }
  },
  "cells": [
    {
      "cell_type": "code",
      "metadata": {
        "id": "8eKHDsEhIEL6"
      },
      "source": [
        "# importing libraries\n",
        "import numpy as np\n",
        "import pandas as pd\n",
        "\n",
        "from sklearn.model_selection import train_test_split\n",
        "from sklearn.preprocessing import StandardScaler\n",
        "\n",
        "from sklearn.linear_model import LinearRegression, Ridge\n",
        "from sklearn.svm import LinearSVR, SVR\n",
        "from sklearn.tree import DecisionTreeRegressor\n",
        "from sklearn.neural_network import MLPRegressor\n",
        "from sklearn.ensemble import RandomForestRegressor, GradientBoostingRegressor, AdaBoostRegressor\n",
        "\n",
        "from sklearn.model_selection import GridSearchCV"
      ],
      "execution_count": 3,
      "outputs": []
    },
    {
      "cell_type": "code",
      "metadata": {
        "id": "WdtprxYHI0aO"
      },
      "source": [
        "# reading the file\n",
        "data = pd.read_csv('/content/data/Concrete_Data_Yeh.csv')"
      ],
      "execution_count": 5,
      "outputs": []
    },
    {
      "cell_type": "code",
      "metadata": {
        "colab": {
          "base_uri": "https://localhost:8080/",
          "height": 438
        },
        "id": "zBuZgVxrJbMH",
        "outputId": "819ed455-6911-4ed5-9806-941ac0e01a51"
      },
      "source": [
        "data"
      ],
      "execution_count": 6,
      "outputs": [
        {
          "output_type": "execute_result",
          "data": {
            "text/html": [
              "<div>\n",
              "<style scoped>\n",
              "    .dataframe tbody tr th:only-of-type {\n",
              "        vertical-align: middle;\n",
              "    }\n",
              "\n",
              "    .dataframe tbody tr th {\n",
              "        vertical-align: top;\n",
              "    }\n",
              "\n",
              "    .dataframe thead th {\n",
              "        text-align: right;\n",
              "    }\n",
              "</style>\n",
              "<table border=\"1\" class=\"dataframe\">\n",
              "  <thead>\n",
              "    <tr style=\"text-align: right;\">\n",
              "      <th></th>\n",
              "      <th>cement</th>\n",
              "      <th>slag</th>\n",
              "      <th>flyash</th>\n",
              "      <th>water</th>\n",
              "      <th>superplasticizer</th>\n",
              "      <th>coarseaggregate</th>\n",
              "      <th>fineaggregate</th>\n",
              "      <th>age</th>\n",
              "      <th>csMPa</th>\n",
              "    </tr>\n",
              "  </thead>\n",
              "  <tbody>\n",
              "    <tr>\n",
              "      <th>0</th>\n",
              "      <td>540.0</td>\n",
              "      <td>0.0</td>\n",
              "      <td>0.0</td>\n",
              "      <td>162.0</td>\n",
              "      <td>2.5</td>\n",
              "      <td>1040.0</td>\n",
              "      <td>676.0</td>\n",
              "      <td>28</td>\n",
              "      <td>79.99</td>\n",
              "    </tr>\n",
              "    <tr>\n",
              "      <th>1</th>\n",
              "      <td>540.0</td>\n",
              "      <td>0.0</td>\n",
              "      <td>0.0</td>\n",
              "      <td>162.0</td>\n",
              "      <td>2.5</td>\n",
              "      <td>1055.0</td>\n",
              "      <td>676.0</td>\n",
              "      <td>28</td>\n",
              "      <td>61.89</td>\n",
              "    </tr>\n",
              "    <tr>\n",
              "      <th>2</th>\n",
              "      <td>332.5</td>\n",
              "      <td>142.5</td>\n",
              "      <td>0.0</td>\n",
              "      <td>228.0</td>\n",
              "      <td>0.0</td>\n",
              "      <td>932.0</td>\n",
              "      <td>594.0</td>\n",
              "      <td>270</td>\n",
              "      <td>40.27</td>\n",
              "    </tr>\n",
              "    <tr>\n",
              "      <th>3</th>\n",
              "      <td>332.5</td>\n",
              "      <td>142.5</td>\n",
              "      <td>0.0</td>\n",
              "      <td>228.0</td>\n",
              "      <td>0.0</td>\n",
              "      <td>932.0</td>\n",
              "      <td>594.0</td>\n",
              "      <td>365</td>\n",
              "      <td>41.05</td>\n",
              "    </tr>\n",
              "    <tr>\n",
              "      <th>4</th>\n",
              "      <td>198.6</td>\n",
              "      <td>132.4</td>\n",
              "      <td>0.0</td>\n",
              "      <td>192.0</td>\n",
              "      <td>0.0</td>\n",
              "      <td>978.4</td>\n",
              "      <td>825.5</td>\n",
              "      <td>360</td>\n",
              "      <td>44.30</td>\n",
              "    </tr>\n",
              "    <tr>\n",
              "      <th>...</th>\n",
              "      <td>...</td>\n",
              "      <td>...</td>\n",
              "      <td>...</td>\n",
              "      <td>...</td>\n",
              "      <td>...</td>\n",
              "      <td>...</td>\n",
              "      <td>...</td>\n",
              "      <td>...</td>\n",
              "      <td>...</td>\n",
              "    </tr>\n",
              "    <tr>\n",
              "      <th>1025</th>\n",
              "      <td>276.4</td>\n",
              "      <td>116.0</td>\n",
              "      <td>90.3</td>\n",
              "      <td>179.6</td>\n",
              "      <td>8.9</td>\n",
              "      <td>870.1</td>\n",
              "      <td>768.3</td>\n",
              "      <td>28</td>\n",
              "      <td>44.28</td>\n",
              "    </tr>\n",
              "    <tr>\n",
              "      <th>1026</th>\n",
              "      <td>322.2</td>\n",
              "      <td>0.0</td>\n",
              "      <td>115.6</td>\n",
              "      <td>196.0</td>\n",
              "      <td>10.4</td>\n",
              "      <td>817.9</td>\n",
              "      <td>813.4</td>\n",
              "      <td>28</td>\n",
              "      <td>31.18</td>\n",
              "    </tr>\n",
              "    <tr>\n",
              "      <th>1027</th>\n",
              "      <td>148.5</td>\n",
              "      <td>139.4</td>\n",
              "      <td>108.6</td>\n",
              "      <td>192.7</td>\n",
              "      <td>6.1</td>\n",
              "      <td>892.4</td>\n",
              "      <td>780.0</td>\n",
              "      <td>28</td>\n",
              "      <td>23.70</td>\n",
              "    </tr>\n",
              "    <tr>\n",
              "      <th>1028</th>\n",
              "      <td>159.1</td>\n",
              "      <td>186.7</td>\n",
              "      <td>0.0</td>\n",
              "      <td>175.6</td>\n",
              "      <td>11.3</td>\n",
              "      <td>989.6</td>\n",
              "      <td>788.9</td>\n",
              "      <td>28</td>\n",
              "      <td>32.77</td>\n",
              "    </tr>\n",
              "    <tr>\n",
              "      <th>1029</th>\n",
              "      <td>260.9</td>\n",
              "      <td>100.5</td>\n",
              "      <td>78.3</td>\n",
              "      <td>200.6</td>\n",
              "      <td>8.6</td>\n",
              "      <td>864.5</td>\n",
              "      <td>761.5</td>\n",
              "      <td>28</td>\n",
              "      <td>32.40</td>\n",
              "    </tr>\n",
              "  </tbody>\n",
              "</table>\n",
              "<p>1030 rows × 9 columns</p>\n",
              "</div>"
            ],
            "text/plain": [
              "      cement   slag  flyash  water  ...  coarseaggregate  fineaggregate  age  csMPa\n",
              "0      540.0    0.0     0.0  162.0  ...           1040.0          676.0   28  79.99\n",
              "1      540.0    0.0     0.0  162.0  ...           1055.0          676.0   28  61.89\n",
              "2      332.5  142.5     0.0  228.0  ...            932.0          594.0  270  40.27\n",
              "3      332.5  142.5     0.0  228.0  ...            932.0          594.0  365  41.05\n",
              "4      198.6  132.4     0.0  192.0  ...            978.4          825.5  360  44.30\n",
              "...      ...    ...     ...    ...  ...              ...            ...  ...    ...\n",
              "1025   276.4  116.0    90.3  179.6  ...            870.1          768.3   28  44.28\n",
              "1026   322.2    0.0   115.6  196.0  ...            817.9          813.4   28  31.18\n",
              "1027   148.5  139.4   108.6  192.7  ...            892.4          780.0   28  23.70\n",
              "1028   159.1  186.7     0.0  175.6  ...            989.6          788.9   28  32.77\n",
              "1029   260.9  100.5    78.3  200.6  ...            864.5          761.5   28  32.40\n",
              "\n",
              "[1030 rows x 9 columns]"
            ]
          },
          "metadata": {},
          "execution_count": 6
        }
      ]
    },
    {
      "cell_type": "code",
      "metadata": {
        "colab": {
          "base_uri": "https://localhost:8080/"
        },
        "id": "c-tXKdTgJf9w",
        "outputId": "23606e05-64d3-477b-b63a-eff51d994912"
      },
      "source": [
        "data.info()"
      ],
      "execution_count": 7,
      "outputs": [
        {
          "output_type": "stream",
          "text": [
            "<class 'pandas.core.frame.DataFrame'>\n",
            "RangeIndex: 1030 entries, 0 to 1029\n",
            "Data columns (total 9 columns):\n",
            " #   Column            Non-Null Count  Dtype  \n",
            "---  ------            --------------  -----  \n",
            " 0   cement            1030 non-null   float64\n",
            " 1   slag              1030 non-null   float64\n",
            " 2   flyash            1030 non-null   float64\n",
            " 3   water             1030 non-null   float64\n",
            " 4   superplasticizer  1030 non-null   float64\n",
            " 5   coarseaggregate   1030 non-null   float64\n",
            " 6   fineaggregate     1030 non-null   float64\n",
            " 7   age               1030 non-null   int64  \n",
            " 8   csMPa             1030 non-null   float64\n",
            "dtypes: float64(8), int64(1)\n",
            "memory usage: 72.5 KB\n"
          ],
          "name": "stdout"
        }
      ]
    },
    {
      "cell_type": "code",
      "metadata": {
        "colab": {
          "base_uri": "https://localhost:8080/",
          "height": 438
        },
        "id": "id4ewD9DJlUN",
        "outputId": "a71da2af-4046-470d-b0b0-e3fbe8b79cc7"
      },
      "source": [
        "data"
      ],
      "execution_count": 8,
      "outputs": [
        {
          "output_type": "execute_result",
          "data": {
            "text/html": [
              "<div>\n",
              "<style scoped>\n",
              "    .dataframe tbody tr th:only-of-type {\n",
              "        vertical-align: middle;\n",
              "    }\n",
              "\n",
              "    .dataframe tbody tr th {\n",
              "        vertical-align: top;\n",
              "    }\n",
              "\n",
              "    .dataframe thead th {\n",
              "        text-align: right;\n",
              "    }\n",
              "</style>\n",
              "<table border=\"1\" class=\"dataframe\">\n",
              "  <thead>\n",
              "    <tr style=\"text-align: right;\">\n",
              "      <th></th>\n",
              "      <th>cement</th>\n",
              "      <th>slag</th>\n",
              "      <th>flyash</th>\n",
              "      <th>water</th>\n",
              "      <th>superplasticizer</th>\n",
              "      <th>coarseaggregate</th>\n",
              "      <th>fineaggregate</th>\n",
              "      <th>age</th>\n",
              "      <th>csMPa</th>\n",
              "    </tr>\n",
              "  </thead>\n",
              "  <tbody>\n",
              "    <tr>\n",
              "      <th>0</th>\n",
              "      <td>540.0</td>\n",
              "      <td>0.0</td>\n",
              "      <td>0.0</td>\n",
              "      <td>162.0</td>\n",
              "      <td>2.5</td>\n",
              "      <td>1040.0</td>\n",
              "      <td>676.0</td>\n",
              "      <td>28</td>\n",
              "      <td>79.99</td>\n",
              "    </tr>\n",
              "    <tr>\n",
              "      <th>1</th>\n",
              "      <td>540.0</td>\n",
              "      <td>0.0</td>\n",
              "      <td>0.0</td>\n",
              "      <td>162.0</td>\n",
              "      <td>2.5</td>\n",
              "      <td>1055.0</td>\n",
              "      <td>676.0</td>\n",
              "      <td>28</td>\n",
              "      <td>61.89</td>\n",
              "    </tr>\n",
              "    <tr>\n",
              "      <th>2</th>\n",
              "      <td>332.5</td>\n",
              "      <td>142.5</td>\n",
              "      <td>0.0</td>\n",
              "      <td>228.0</td>\n",
              "      <td>0.0</td>\n",
              "      <td>932.0</td>\n",
              "      <td>594.0</td>\n",
              "      <td>270</td>\n",
              "      <td>40.27</td>\n",
              "    </tr>\n",
              "    <tr>\n",
              "      <th>3</th>\n",
              "      <td>332.5</td>\n",
              "      <td>142.5</td>\n",
              "      <td>0.0</td>\n",
              "      <td>228.0</td>\n",
              "      <td>0.0</td>\n",
              "      <td>932.0</td>\n",
              "      <td>594.0</td>\n",
              "      <td>365</td>\n",
              "      <td>41.05</td>\n",
              "    </tr>\n",
              "    <tr>\n",
              "      <th>4</th>\n",
              "      <td>198.6</td>\n",
              "      <td>132.4</td>\n",
              "      <td>0.0</td>\n",
              "      <td>192.0</td>\n",
              "      <td>0.0</td>\n",
              "      <td>978.4</td>\n",
              "      <td>825.5</td>\n",
              "      <td>360</td>\n",
              "      <td>44.30</td>\n",
              "    </tr>\n",
              "    <tr>\n",
              "      <th>...</th>\n",
              "      <td>...</td>\n",
              "      <td>...</td>\n",
              "      <td>...</td>\n",
              "      <td>...</td>\n",
              "      <td>...</td>\n",
              "      <td>...</td>\n",
              "      <td>...</td>\n",
              "      <td>...</td>\n",
              "      <td>...</td>\n",
              "    </tr>\n",
              "    <tr>\n",
              "      <th>1025</th>\n",
              "      <td>276.4</td>\n",
              "      <td>116.0</td>\n",
              "      <td>90.3</td>\n",
              "      <td>179.6</td>\n",
              "      <td>8.9</td>\n",
              "      <td>870.1</td>\n",
              "      <td>768.3</td>\n",
              "      <td>28</td>\n",
              "      <td>44.28</td>\n",
              "    </tr>\n",
              "    <tr>\n",
              "      <th>1026</th>\n",
              "      <td>322.2</td>\n",
              "      <td>0.0</td>\n",
              "      <td>115.6</td>\n",
              "      <td>196.0</td>\n",
              "      <td>10.4</td>\n",
              "      <td>817.9</td>\n",
              "      <td>813.4</td>\n",
              "      <td>28</td>\n",
              "      <td>31.18</td>\n",
              "    </tr>\n",
              "    <tr>\n",
              "      <th>1027</th>\n",
              "      <td>148.5</td>\n",
              "      <td>139.4</td>\n",
              "      <td>108.6</td>\n",
              "      <td>192.7</td>\n",
              "      <td>6.1</td>\n",
              "      <td>892.4</td>\n",
              "      <td>780.0</td>\n",
              "      <td>28</td>\n",
              "      <td>23.70</td>\n",
              "    </tr>\n",
              "    <tr>\n",
              "      <th>1028</th>\n",
              "      <td>159.1</td>\n",
              "      <td>186.7</td>\n",
              "      <td>0.0</td>\n",
              "      <td>175.6</td>\n",
              "      <td>11.3</td>\n",
              "      <td>989.6</td>\n",
              "      <td>788.9</td>\n",
              "      <td>28</td>\n",
              "      <td>32.77</td>\n",
              "    </tr>\n",
              "    <tr>\n",
              "      <th>1029</th>\n",
              "      <td>260.9</td>\n",
              "      <td>100.5</td>\n",
              "      <td>78.3</td>\n",
              "      <td>200.6</td>\n",
              "      <td>8.6</td>\n",
              "      <td>864.5</td>\n",
              "      <td>761.5</td>\n",
              "      <td>28</td>\n",
              "      <td>32.40</td>\n",
              "    </tr>\n",
              "  </tbody>\n",
              "</table>\n",
              "<p>1030 rows × 9 columns</p>\n",
              "</div>"
            ],
            "text/plain": [
              "      cement   slag  flyash  water  ...  coarseaggregate  fineaggregate  age  csMPa\n",
              "0      540.0    0.0     0.0  162.0  ...           1040.0          676.0   28  79.99\n",
              "1      540.0    0.0     0.0  162.0  ...           1055.0          676.0   28  61.89\n",
              "2      332.5  142.5     0.0  228.0  ...            932.0          594.0  270  40.27\n",
              "3      332.5  142.5     0.0  228.0  ...            932.0          594.0  365  41.05\n",
              "4      198.6  132.4     0.0  192.0  ...            978.4          825.5  360  44.30\n",
              "...      ...    ...     ...    ...  ...              ...            ...  ...    ...\n",
              "1025   276.4  116.0    90.3  179.6  ...            870.1          768.3   28  44.28\n",
              "1026   322.2    0.0   115.6  196.0  ...            817.9          813.4   28  31.18\n",
              "1027   148.5  139.4   108.6  192.7  ...            892.4          780.0   28  23.70\n",
              "1028   159.1  186.7     0.0  175.6  ...            989.6          788.9   28  32.77\n",
              "1029   260.9  100.5    78.3  200.6  ...            864.5          761.5   28  32.40\n",
              "\n",
              "[1030 rows x 9 columns]"
            ]
          },
          "metadata": {},
          "execution_count": 8
        }
      ]
    },
    {
      "cell_type": "code",
      "metadata": {
        "id": "n540ounQJm8R"
      },
      "source": [
        "# Preprocessing the data\n",
        "def preprocess_inputs(df):\n",
        "    df = df.copy()\n",
        "    \n",
        "    y = df['csMPa'].copy()\n",
        "    X = df.drop('csMPa', axis=1).copy()\n",
        "    \n",
        "    \n",
        "    \n",
        "    # Train-test split\n",
        "    X_train, X_test, y_train, y_test = train_test_split(X, y, train_size=0.7, random_state=123)\n",
        "    \n",
        "    \n",
        "    # Scale X with a standard scaler\n",
        "    scaler = StandardScaler()\n",
        "    scaler.fit(X_train)\n",
        "    \n",
        "    X_train = pd.DataFrame(scaler.transform(X_train), columns=X_train.columns)\n",
        "    X_test = pd.DataFrame(scaler.transform(X_test), columns=X_test.columns)\n",
        "    \n",
        "    return X_train, X_test, y_train, y_test"
      ],
      "execution_count": 9,
      "outputs": []
    },
    {
      "cell_type": "code",
      "metadata": {
        "id": "Cm3Lu0MwKxDC"
      },
      "source": [
        "X_train, X_test, y_train, y_test = preprocess_inputs(data)"
      ],
      "execution_count": 10,
      "outputs": []
    },
    {
      "cell_type": "code",
      "metadata": {
        "colab": {
          "base_uri": "https://localhost:8080/",
          "height": 438
        },
        "id": "XuooLE9uK1t_",
        "outputId": "3688055d-578e-4030-ed03-773f0fef5402"
      },
      "source": [
        "X_train"
      ],
      "execution_count": 11,
      "outputs": [
        {
          "output_type": "execute_result",
          "data": {
            "text/html": [
              "<div>\n",
              "<style scoped>\n",
              "    .dataframe tbody tr th:only-of-type {\n",
              "        vertical-align: middle;\n",
              "    }\n",
              "\n",
              "    .dataframe tbody tr th {\n",
              "        vertical-align: top;\n",
              "    }\n",
              "\n",
              "    .dataframe thead th {\n",
              "        text-align: right;\n",
              "    }\n",
              "</style>\n",
              "<table border=\"1\" class=\"dataframe\">\n",
              "  <thead>\n",
              "    <tr style=\"text-align: right;\">\n",
              "      <th></th>\n",
              "      <th>cement</th>\n",
              "      <th>slag</th>\n",
              "      <th>flyash</th>\n",
              "      <th>water</th>\n",
              "      <th>superplasticizer</th>\n",
              "      <th>coarseaggregate</th>\n",
              "      <th>fineaggregate</th>\n",
              "      <th>age</th>\n",
              "    </tr>\n",
              "  </thead>\n",
              "  <tbody>\n",
              "    <tr>\n",
              "      <th>0</th>\n",
              "      <td>-0.858785</td>\n",
              "      <td>2.415833</td>\n",
              "      <td>-0.847354</td>\n",
              "      <td>0.475472</td>\n",
              "      <td>-1.034530</td>\n",
              "      <td>-0.549031</td>\n",
              "      <td>-0.704369</td>\n",
              "      <td>-0.677267</td>\n",
              "    </tr>\n",
              "    <tr>\n",
              "      <th>1</th>\n",
              "      <td>-0.649654</td>\n",
              "      <td>0.257904</td>\n",
              "      <td>-0.463043</td>\n",
              "      <td>-0.008664</td>\n",
              "      <td>0.083955</td>\n",
              "      <td>1.203924</td>\n",
              "      <td>0.179163</td>\n",
              "      <td>0.174174</td>\n",
              "    </tr>\n",
              "    <tr>\n",
              "      <th>2</th>\n",
              "      <td>0.273206</td>\n",
              "      <td>-0.856855</td>\n",
              "      <td>-0.847354</td>\n",
              "      <td>0.475472</td>\n",
              "      <td>-1.034530</td>\n",
              "      <td>0.508920</td>\n",
              "      <td>0.745693</td>\n",
              "      <td>1.202330</td>\n",
              "    </tr>\n",
              "    <tr>\n",
              "      <th>3</th>\n",
              "      <td>0.551408</td>\n",
              "      <td>-0.856855</td>\n",
              "      <td>-0.847354</td>\n",
              "      <td>0.146448</td>\n",
              "      <td>-1.034530</td>\n",
              "      <td>1.126701</td>\n",
              "      <td>-0.221864</td>\n",
              "      <td>-0.275644</td>\n",
              "    </tr>\n",
              "    <tr>\n",
              "      <th>4</th>\n",
              "      <td>1.107810</td>\n",
              "      <td>-0.856855</td>\n",
              "      <td>-0.847354</td>\n",
              "      <td>0.179350</td>\n",
              "      <td>-1.034530</td>\n",
              "      <td>0.877014</td>\n",
              "      <td>-0.472665</td>\n",
              "      <td>-0.613008</td>\n",
              "    </tr>\n",
              "    <tr>\n",
              "      <th>...</th>\n",
              "      <td>...</td>\n",
              "      <td>...</td>\n",
              "      <td>...</td>\n",
              "      <td>...</td>\n",
              "      <td>...</td>\n",
              "      <td>...</td>\n",
              "      <td>...</td>\n",
              "      <td>...</td>\n",
              "    </tr>\n",
              "    <tr>\n",
              "      <th>716</th>\n",
              "      <td>0.944727</td>\n",
              "      <td>0.222677</td>\n",
              "      <td>-0.847354</td>\n",
              "      <td>2.167599</td>\n",
              "      <td>-1.034530</td>\n",
              "      <td>-0.520716</td>\n",
              "      <td>-2.258826</td>\n",
              "      <td>2.166226</td>\n",
              "    </tr>\n",
              "    <tr>\n",
              "      <th>717</th>\n",
              "      <td>0.896761</td>\n",
              "      <td>-0.856855</td>\n",
              "      <td>-0.847354</td>\n",
              "      <td>0.193451</td>\n",
              "      <td>-1.034530</td>\n",
              "      <td>0.843551</td>\n",
              "      <td>-0.170940</td>\n",
              "      <td>-0.275644</td>\n",
              "    </tr>\n",
              "    <tr>\n",
              "      <th>718</th>\n",
              "      <td>1.039699</td>\n",
              "      <td>1.290846</td>\n",
              "      <td>-0.847354</td>\n",
              "      <td>-1.691390</td>\n",
              "      <td>2.638108</td>\n",
              "      <td>-0.357261</td>\n",
              "      <td>-0.198948</td>\n",
              "      <td>-0.613008</td>\n",
              "    </tr>\n",
              "    <tr>\n",
              "      <th>719</th>\n",
              "      <td>1.376418</td>\n",
              "      <td>0.351085</td>\n",
              "      <td>-0.847354</td>\n",
              "      <td>-1.432871</td>\n",
              "      <td>2.070519</td>\n",
              "      <td>-0.469234</td>\n",
              "      <td>0.410867</td>\n",
              "      <td>-0.613008</td>\n",
              "    </tr>\n",
              "    <tr>\n",
              "      <th>720</th>\n",
              "      <td>0.777806</td>\n",
              "      <td>1.290846</td>\n",
              "      <td>-0.847354</td>\n",
              "      <td>-0.798323</td>\n",
              "      <td>0.901952</td>\n",
              "      <td>-0.357261</td>\n",
              "      <td>-0.198948</td>\n",
              "      <td>-0.613008</td>\n",
              "    </tr>\n",
              "  </tbody>\n",
              "</table>\n",
              "<p>721 rows × 8 columns</p>\n",
              "</div>"
            ],
            "text/plain": [
              "       cement      slag    flyash  ...  coarseaggregate  fineaggregate       age\n",
              "0   -0.858785  2.415833 -0.847354  ...        -0.549031      -0.704369 -0.677267\n",
              "1   -0.649654  0.257904 -0.463043  ...         1.203924       0.179163  0.174174\n",
              "2    0.273206 -0.856855 -0.847354  ...         0.508920       0.745693  1.202330\n",
              "3    0.551408 -0.856855 -0.847354  ...         1.126701      -0.221864 -0.275644\n",
              "4    1.107810 -0.856855 -0.847354  ...         0.877014      -0.472665 -0.613008\n",
              "..        ...       ...       ...  ...              ...            ...       ...\n",
              "716  0.944727  0.222677 -0.847354  ...        -0.520716      -2.258826  2.166226\n",
              "717  0.896761 -0.856855 -0.847354  ...         0.843551      -0.170940 -0.275644\n",
              "718  1.039699  1.290846 -0.847354  ...        -0.357261      -0.198948 -0.613008\n",
              "719  1.376418  0.351085 -0.847354  ...        -0.469234       0.410867 -0.613008\n",
              "720  0.777806  1.290846 -0.847354  ...        -0.357261      -0.198948 -0.613008\n",
              "\n",
              "[721 rows x 8 columns]"
            ]
          },
          "metadata": {},
          "execution_count": 11
        }
      ]
    },
    {
      "cell_type": "code",
      "metadata": {
        "colab": {
          "base_uri": "https://localhost:8080/"
        },
        "id": "JWsPNNafK47I",
        "outputId": "b4a56659-6cee-4dae-d48f-6464668b3420"
      },
      "source": [
        "y_train"
      ],
      "execution_count": 12,
      "outputs": [
        {
          "output_type": "execute_result",
          "data": {
            "text/plain": [
              "666    12.79\n",
              "237    47.13\n",
              "725    38.70\n",
              "802    31.65\n",
              "568    25.45\n",
              "       ...  \n",
              "47     40.76\n",
              "638    38.21\n",
              "113    59.09\n",
              "96     46.80\n",
              "106    55.90\n",
              "Name: csMPa, Length: 721, dtype: float64"
            ]
          },
          "metadata": {},
          "execution_count": 12
        }
      ]
    },
    {
      "cell_type": "code",
      "metadata": {
        "id": "QR_lk3I3K9zJ"
      },
      "source": [
        "# Model Selection\n",
        "from sklearn.linear_model import LinearRegression, Ridge\n",
        "from sklearn.svm import LinearSVR, SVR\n",
        "from sklearn.tree import DecisionTreeRegressor\n",
        "from sklearn.neural_network import MLPRegressor\n",
        "from sklearn.ensemble import RandomForestRegressor, GradientBoostingRegressor, AdaBoostRegressor"
      ],
      "execution_count": 13,
      "outputs": []
    },
    {
      "cell_type": "code",
      "metadata": {
        "colab": {
          "base_uri": "https://localhost:8080/"
        },
        "id": "zNDO3xa8LB6w",
        "outputId": "8e329ef5-2194-48c7-8ac6-dfafe453e711"
      },
      "source": [
        "models = {\n",
        "    \"                     Linear Regression\": LinearRegression(),\n",
        "    \"                 L2 (Ridge) Regression\": Ridge(),\n",
        "    \"Support Vector Machine (Linear Kernel)\": LinearSVR(),\n",
        "    \"   Support Vector Mahcine (RBF Kernel)\": SVR(),\n",
        "    \"                         Decision Tree\": DecisionTreeRegressor(),\n",
        "    \"                        Neural Network\": MLPRegressor(),\n",
        "    \"                         Random Forest\": RandomForestRegressor(),\n",
        "    \"                     Gradient Boosting\": GradientBoostingRegressor(),\n",
        "    \"                              AdaBoost\": AdaBoostRegressor()\n",
        "}\n",
        "\n",
        "for name, model in models.items():\n",
        "    model.fit(X_train, y_train)\n",
        "    print(name + \" trained.\")"
      ],
      "execution_count": 14,
      "outputs": [
        {
          "output_type": "stream",
          "text": [
            "                     Linear Regression trained.\n",
            "                 L2 (Ridge) Regression trained.\n",
            "Support Vector Machine (Linear Kernel) trained.\n",
            "   Support Vector Mahcine (RBF Kernel) trained.\n",
            "                         Decision Tree trained.\n"
          ],
          "name": "stdout"
        },
        {
          "output_type": "stream",
          "text": [
            "/usr/local/lib/python3.7/dist-packages/sklearn/neural_network/_multilayer_perceptron.py:571: ConvergenceWarning: Stochastic Optimizer: Maximum iterations (200) reached and the optimization hasn't converged yet.\n",
            "  % self.max_iter, ConvergenceWarning)\n"
          ],
          "name": "stderr"
        },
        {
          "output_type": "stream",
          "text": [
            "                        Neural Network trained.\n",
            "                         Random Forest trained.\n",
            "                     Gradient Boosting trained.\n",
            "                              AdaBoost trained.\n"
          ],
          "name": "stdout"
        }
      ]
    },
    {
      "cell_type": "code",
      "metadata": {
        "colab": {
          "base_uri": "https://localhost:8080/"
        },
        "id": "069V-YdzLNRp",
        "outputId": "fa287cee-f317-418a-bea5-94b4f465cda7"
      },
      "source": [
        "for name, model in models.items():\n",
        "    print(name + \" R^2: {:.5f}\".format(model.score(X_test, y_test)))"
      ],
      "execution_count": 15,
      "outputs": [
        {
          "output_type": "stream",
          "text": [
            "                     Linear Regression R^2: 0.60111\n",
            "                 L2 (Ridge) Regression R^2: 0.60097\n",
            "Support Vector Machine (Linear Kernel) R^2: 0.57146\n",
            "   Support Vector Mahcine (RBF Kernel) R^2: 0.63459\n",
            "                         Decision Tree R^2: 0.83739\n",
            "                        Neural Network R^2: 0.44185\n",
            "                         Random Forest R^2: 0.89790\n",
            "                     Gradient Boosting R^2: 0.90701\n",
            "                              AdaBoost R^2: 0.79622\n"
          ],
          "name": "stdout"
        }
      ]
    },
    {
      "cell_type": "code",
      "metadata": {
        "colab": {
          "base_uri": "https://localhost:8080/"
        },
        "id": "6kD6aLCULiIJ",
        "outputId": "c4886054-91fd-4537-a9bd-6d91aa9c015d"
      },
      "source": [
        "# optimizing the model\n",
        "best_model = GradientBoostingRegressor()\n",
        "best_model.fit(X_train, y_train)\n",
        "\n",
        "print(\"Model R^2 (Before Optimization): {:.5f}\".format(best_model.score(X_test, y_test)))"
      ],
      "execution_count": 16,
      "outputs": [
        {
          "output_type": "stream",
          "text": [
            "Model R^2 (Before Optimization): 0.90682\n"
          ],
          "name": "stdout"
        }
      ]
    },
    {
      "cell_type": "code",
      "metadata": {
        "colab": {
          "base_uri": "https://localhost:8080/"
        },
        "id": "l89yMQULLqI1",
        "outputId": "2f2ce4fb-0187-4b7c-c9f5-c6dfadba2a80"
      },
      "source": [
        "params = {\n",
        "    'learning_rate': [0.01, 0.1, 1.0],\n",
        "    'n_estimators': [100, 150, 200],\n",
        "    'max_depth': [3, 4, 5]\n",
        "}\n",
        "\n",
        "clf = GridSearchCV(best_model, params)\n",
        "clf.fit(X_train, y_train)\n",
        "\n",
        "clf.best_params_"
      ],
      "execution_count": 17,
      "outputs": [
        {
          "output_type": "execute_result",
          "data": {
            "text/plain": [
              "{'learning_rate': 0.1, 'max_depth': 5, 'n_estimators': 200}"
            ]
          },
          "metadata": {},
          "execution_count": 17
        }
      ]
    },
    {
      "cell_type": "code",
      "metadata": {
        "colab": {
          "base_uri": "https://localhost:8080/"
        },
        "id": "ueuUpLVILvM9",
        "outputId": "60cbc6c3-85ad-48d6-8918-d61e723c8579"
      },
      "source": [
        "print(\"Model R^2 (After Optimization): {:.5f}\".format(clf.score(X_test, y_test)))"
      ],
      "execution_count": 18,
      "outputs": [
        {
          "output_type": "stream",
          "text": [
            "Model R^2 (After Optimization): 0.92705\n"
          ],
          "name": "stdout"
        }
      ]
    }
  ]
}